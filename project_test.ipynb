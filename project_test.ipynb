{
 "cells": [
  {
   "cell_type": "code",
   "execution_count": null,
   "id": "4b144a45",
   "metadata": {
    "scrolled": true
   },
   "outputs": [],
   "source": [
    "print(\"Hello!\")"
   ]
  },
  {
   "cell_type": "code",
   "execution_count": null,
   "id": "f6087cbc",
   "metadata": {
    "scrolled": true
   },
   "outputs": [],
   "source": [
    "print(\"Firstly, what is the surface of the tournament?\")"
   ]
  },
  {
   "cell_type": "code",
   "execution_count": null,
   "id": "1d35a506",
   "metadata": {
    "scrolled": false
   },
   "outputs": [],
   "source": [
    "surface = input()"
   ]
  },
  {
   "cell_type": "code",
   "execution_count": null,
   "id": "0639662f",
   "metadata": {},
   "outputs": [],
   "source": [
    "if surface == \"clay\":\n",
    "    weights = {\"surface\": 0.31, \"rank\": 0.19, \"tournament\": 0.11, \"country\": 0.10, \"age\": 0.07, \"h2h\": 0.08, \"height\": 0.04, \"odd\": 0.10}\n",
    "elif surface == \"hard\":\n",
    "    weights = {\"surface\": 0.27, \"rank\": 0.16, \"tournament\": 0.12, \"country\": 0.11, \"age\": 0.06, \"h2h\": 0.08, \"height\": 0.10, \"odd\": 0.10}\n",
    "elif surface == \"grass\":\n",
    "    weights = {\"surface\": 0.37, \"rank\": 0.16, \"tournament\": 0.10, \"country\": 0.04, \"age\": 0.06, \"h2h\": 0.06, \"height\": 0.10, \"odd\": 0.11}\n",
    "elif surface == \"indoors\":\n",
    "    weights = {\"surface\": 0.35, \"rank\": 0.16, \"tournament\": 0.12, \"country\": 0.08, \"age\": 0.07, \"h2h\": 0.08, \"height\": 0.05, \"odd\": 0.09}\n",
    "else:\n",
    "    print(\"Invalid\")"
   ]
  },
  {
   "cell_type": "code",
   "execution_count": null,
   "id": "d23c8677",
   "metadata": {},
   "outputs": [],
   "source": [
    "print(\"So the attributes for this surface are...\")"
   ]
  },
  {
   "cell_type": "code",
   "execution_count": null,
   "id": "c3b709a7",
   "metadata": {},
   "outputs": [],
   "source": [
    "for surface in weights:\n",
    "    print(surface, \"-\" , weights[surface])"
   ]
  },
  {
   "cell_type": "code",
   "execution_count": null,
   "id": "552c4178",
   "metadata": {},
   "outputs": [],
   "source": [
    "print(\"Now, tell me who is the first player of the match:\")"
   ]
  },
  {
   "cell_type": "code",
   "execution_count": null,
   "id": "3f675688",
   "metadata": {},
   "outputs": [],
   "source": [
    "p1 = input()"
   ]
  },
  {
   "cell_type": "code",
   "execution_count": null,
   "id": "c3886f73",
   "metadata": {
    "scrolled": true
   },
   "outputs": [],
   "source": [
    "print(\"And who is the second player?\")"
   ]
  },
  {
   "cell_type": "code",
   "execution_count": null,
   "id": "c25c489b",
   "metadata": {
    "scrolled": true
   },
   "outputs": [],
   "source": [
    "p2 = input()"
   ]
  },
  {
   "cell_type": "code",
   "execution_count": null,
   "id": "2aa73a66",
   "metadata": {},
   "outputs": [],
   "source": [
    "print(\"Match:\", p1, \"x\", p2)"
   ]
  },
  {
   "cell_type": "markdown",
   "id": "4cd99e99",
   "metadata": {},
   "source": [
    "### This part is about the surface of each player"
   ]
  },
  {
   "cell_type": "code",
   "execution_count": null,
   "id": "e599787a",
   "metadata": {},
   "outputs": [],
   "source": [
    "print(\"Now lets calculate the use of each player on\", surface)"
   ]
  },
  {
   "cell_type": "code",
   "execution_count": null,
   "id": "9b893605",
   "metadata": {},
   "outputs": [],
   "source": [
    "print(\"How many matches the first player won?\")"
   ]
  },
  {
   "cell_type": "code",
   "execution_count": null,
   "id": "680c25ba",
   "metadata": {},
   "outputs": [],
   "source": [
    "p1_wins_surface = input()"
   ]
  },
  {
   "cell_type": "code",
   "execution_count": null,
   "id": "09ac7741",
   "metadata": {},
   "outputs": [],
   "source": [
    "print(\"How many matches the first player lost?\")"
   ]
  },
  {
   "cell_type": "code",
   "execution_count": null,
   "id": "7eb00e57",
   "metadata": {},
   "outputs": [],
   "source": [
    "p1_losts_surface = input()"
   ]
  },
  {
   "cell_type": "code",
   "execution_count": null,
   "id": "8d79d77f",
   "metadata": {},
   "outputs": [],
   "source": [
    "p1_surface_percentage = int(p1_wins_surface) / (int(p1_losts_surface) + int(p1_wins_surface))"
   ]
  },
  {
   "cell_type": "code",
   "execution_count": null,
   "id": "d39a24dc",
   "metadata": {},
   "outputs": [],
   "source": [
    "print(\"So player one has a leverage of\", p1_surface_percentage , \"at this surface.\")"
   ]
  },
  {
   "cell_type": "code",
   "execution_count": null,
   "id": "ed25aebc",
   "metadata": {},
   "outputs": [],
   "source": [
    "print(\"So, how many matches the second player won?\")"
   ]
  },
  {
   "cell_type": "code",
   "execution_count": null,
   "id": "723e6649",
   "metadata": {
    "scrolled": true
   },
   "outputs": [],
   "source": [
    "p2_wins_surface = input()"
   ]
  },
  {
   "cell_type": "code",
   "execution_count": null,
   "id": "58217fdc",
   "metadata": {},
   "outputs": [],
   "source": [
    "print(\"So, how many matches the second player lost?\")"
   ]
  },
  {
   "cell_type": "code",
   "execution_count": null,
   "id": "347ae3e2",
   "metadata": {},
   "outputs": [],
   "source": [
    "p2_losts_surface = input()"
   ]
  },
  {
   "cell_type": "code",
   "execution_count": null,
   "id": "8b941ff6",
   "metadata": {},
   "outputs": [],
   "source": [
    "p2_surface_percentage = int(p2_wins_surface) / (int(p2_losts_surface) + int(p2_wins_surface))"
   ]
  },
  {
   "cell_type": "code",
   "execution_count": null,
   "id": "d62a88ba",
   "metadata": {},
   "outputs": [],
   "source": [
    "print(\"So player two has a leverage of\", p2_surface_percentage)"
   ]
  },
  {
   "cell_type": "code",
   "execution_count": null,
   "id": "a7f42c12",
   "metadata": {},
   "outputs": [],
   "source": [
    "p1_surface = p1_surface_percentage / (p1_surface_percentage + p2_surface_percentage)"
   ]
  },
  {
   "cell_type": "code",
   "execution_count": null,
   "id": "512f0dca",
   "metadata": {},
   "outputs": [],
   "source": [
    "p2_surface = p2_surface_percentage / (p2_surface_percentage + p1_surface_percentage)"
   ]
  },
  {
   "cell_type": "code",
   "execution_count": null,
   "id": "b6d16f88",
   "metadata": {
    "scrolled": true
   },
   "outputs": [],
   "source": [
    "print(\"This part is the rank of the each player, usinga a scale 1.0 to 4.0 (float). Where 1 to 11 = 4 / 12 to 35 = 3 / 36 to 68 = 2 / 69 to ...) = 1\")"
   ]
  },
  {
   "cell_type": "code",
   "execution_count": null,
   "id": "ca3d7f17",
   "metadata": {},
   "outputs": [],
   "source": [
    "print(\"What is the rank power of the first player?\")"
   ]
  },
  {
   "cell_type": "code",
   "execution_count": null,
   "id": "3e781857",
   "metadata": {
    "scrolled": true
   },
   "outputs": [],
   "source": [
    "p1_ranking = input()"
   ]
  },
  {
   "cell_type": "code",
   "execution_count": null,
   "id": "835be6a2",
   "metadata": {},
   "outputs": [],
   "source": [
    "print(\"And what is the rank power of the second player?\")"
   ]
  },
  {
   "cell_type": "code",
   "execution_count": null,
   "id": "d8a2352d",
   "metadata": {
    "scrolled": true
   },
   "outputs": [],
   "source": [
    "p2_ranking = input()"
   ]
  },
  {
   "cell_type": "code",
   "execution_count": null,
   "id": "18fe9062",
   "metadata": {},
   "outputs": [],
   "source": [
    "p1_rank = float(p1_ranking) / (float(p1_ranking) + (float(p2_ranking)))"
   ]
  },
  {
   "cell_type": "code",
   "execution_count": null,
   "id": "bc184a24",
   "metadata": {},
   "outputs": [],
   "source": [
    "p2_rank = float(p2_ranking) / (float(p2_ranking) + (float(p1_ranking)))"
   ]
  },
  {
   "cell_type": "code",
   "execution_count": null,
   "id": "f3d03e83",
   "metadata": {},
   "outputs": [],
   "source": [
    "print(\"This part is about the weight of the tournmament for each player (in scale of 1.0 to 4.0 - Using float numbers).\")"
   ]
  },
  {
   "cell_type": "code",
   "execution_count": null,
   "id": "f3983b04",
   "metadata": {},
   "outputs": [],
   "source": [
    "print(\"What is the importance of the tournament for the p1?\")"
   ]
  },
  {
   "cell_type": "code",
   "execution_count": null,
   "id": "d82bae21",
   "metadata": {
    "scrolled": true
   },
   "outputs": [],
   "source": [
    "p1_tournament_percentage = input()"
   ]
  },
  {
   "cell_type": "code",
   "execution_count": null,
   "id": "2a7ee3fe",
   "metadata": {},
   "outputs": [],
   "source": [
    "print(\"What is the importance of the tournament for the p2?\")"
   ]
  },
  {
   "cell_type": "code",
   "execution_count": null,
   "id": "dc18436f",
   "metadata": {},
   "outputs": [],
   "source": [
    "p2_tournament_percentage = input()"
   ]
  },
  {
   "cell_type": "code",
   "execution_count": null,
   "id": "a0b65d65",
   "metadata": {},
   "outputs": [],
   "source": [
    "p1_tournament = float(p1_tournament_percentage) / (float(p1_tournament_percentage) + float(p2_tournament_percentage))"
   ]
  },
  {
   "cell_type": "code",
   "execution_count": null,
   "id": "87bcff4b",
   "metadata": {},
   "outputs": [],
   "source": [
    "p2_tournament = float(p2_tournament_percentage) / (float(p2_tournament_percentage) + float(p1_tournament_percentage))"
   ]
  },
  {
   "cell_type": "code",
   "execution_count": null,
   "id": "743494b2",
   "metadata": {},
   "outputs": [],
   "source": [
    "print(\"In this part we will approach the country of the tournament and the nationality of the player. Where if the player is native of the country we will attributed to him 1, else we will attributed to him 0\")"
   ]
  },
  {
   "cell_type": "code",
   "execution_count": null,
   "id": "8abc1290",
   "metadata": {},
   "outputs": [],
   "source": [
    "print(\"The player 1 is the country of the tournament?\")"
   ]
  },
  {
   "cell_type": "code",
   "execution_count": null,
   "id": "37c557f7",
   "metadata": {
    "scrolled": true
   },
   "outputs": [],
   "source": [
    "p1_country = input()"
   ]
  },
  {
   "cell_type": "code",
   "execution_count": null,
   "id": "252cb48e",
   "metadata": {},
   "outputs": [],
   "source": [
    "print(\"The player 2 is the country of the tournament?\")"
   ]
  },
  {
   "cell_type": "code",
   "execution_count": null,
   "id": "c4102384",
   "metadata": {},
   "outputs": [],
   "source": [
    "p2_country = input()"
   ]
  },
  {
   "cell_type": "code",
   "execution_count": null,
   "id": "d08c5148",
   "metadata": {},
   "outputs": [],
   "source": [
    "print(\"This part is about the age of the player. Where the range gonna be - 1 to 3 (Use only 'float' numbers)\")"
   ]
  },
  {
   "cell_type": "code",
   "execution_count": null,
   "id": "3183c450",
   "metadata": {},
   "outputs": [],
   "source": [
    "print(\"Whats is the rate of age of the player 1?\")"
   ]
  },
  {
   "cell_type": "code",
   "execution_count": null,
   "id": "7f8194e9",
   "metadata": {},
   "outputs": [],
   "source": [
    "p1_age_percentage = input()"
   ]
  },
  {
   "cell_type": "code",
   "execution_count": null,
   "id": "f3f7dccc",
   "metadata": {},
   "outputs": [],
   "source": [
    "print(\"Whats is the rate of age of the player 2?\")"
   ]
  },
  {
   "cell_type": "code",
   "execution_count": null,
   "id": "2d032f35",
   "metadata": {
    "scrolled": true
   },
   "outputs": [],
   "source": [
    "p2_age_percentage = input()"
   ]
  },
  {
   "cell_type": "code",
   "execution_count": null,
   "id": "7482a282",
   "metadata": {},
   "outputs": [],
   "source": [
    "p1_age = float(p1_age_percentage) / (float(p1_age_percentage) + float(p2_age_percentage))"
   ]
  },
  {
   "cell_type": "code",
   "execution_count": null,
   "id": "b852fa73",
   "metadata": {},
   "outputs": [],
   "source": [
    "p2_age = float(p2_age_percentage) / (float(p2_age_percentage) + float(p1_age_percentage))"
   ]
  },
  {
   "cell_type": "code",
   "execution_count": null,
   "id": "66db67cf",
   "metadata": {},
   "outputs": [],
   "source": [
    "print(\"This part is about H2H topic. We have to pay attention on H2H numbers, not even every match has a H2H history.\")"
   ]
  },
  {
   "cell_type": "code",
   "execution_count": null,
   "id": "533ee40e",
   "metadata": {},
   "outputs": [],
   "source": [
    "print(\"How many matches the player 1 won?\")"
   ]
  },
  {
   "cell_type": "code",
   "execution_count": null,
   "id": "6c13f975",
   "metadata": {
    "scrolled": true
   },
   "outputs": [],
   "source": [
    "p1_h2h_percentage = input()"
   ]
  },
  {
   "cell_type": "code",
   "execution_count": null,
   "id": "a9e571eb",
   "metadata": {},
   "outputs": [],
   "source": [
    "print(\"How many matches the player 2 won?\")"
   ]
  },
  {
   "cell_type": "code",
   "execution_count": null,
   "id": "08f6b868",
   "metadata": {
    "scrolled": true
   },
   "outputs": [],
   "source": [
    "p2_h2h_percentage = input()"
   ]
  },
  {
   "cell_type": "code",
   "execution_count": null,
   "id": "838451a1",
   "metadata": {},
   "outputs": [],
   "source": [
    "p1_h2h = int(p1_h2h_percentage) / (int(p1_h2h_percentage) + int(p2_h2h_percentage))"
   ]
  },
  {
   "cell_type": "code",
   "execution_count": null,
   "id": "9dd75ad9",
   "metadata": {},
   "outputs": [],
   "source": [
    "p2_h2h = int(p2_h2h_percentage) / (int(p2_h2h_percentage) + int(p1_h2h_percentage))"
   ]
  },
  {
   "cell_type": "code",
   "execution_count": null,
   "id": "3d829717",
   "metadata": {},
   "outputs": [],
   "source": [
    "print(\"This part is about the height of the player, most valorized on fast courts.\")"
   ]
  },
  {
   "cell_type": "code",
   "execution_count": null,
   "id": "a1022165",
   "metadata": {},
   "outputs": [],
   "source": [
    "print(\"Whats the height of the player 1?\")"
   ]
  },
  {
   "cell_type": "code",
   "execution_count": null,
   "id": "b350709e",
   "metadata": {},
   "outputs": [],
   "source": [
    "p1_height_percentage = input()"
   ]
  },
  {
   "cell_type": "code",
   "execution_count": null,
   "id": "90a03cea",
   "metadata": {},
   "outputs": [],
   "source": [
    "print(\"Whats the height of the player 2?\")"
   ]
  },
  {
   "cell_type": "code",
   "execution_count": null,
   "id": "373eb368",
   "metadata": {},
   "outputs": [],
   "source": [
    "p2_height_percentage = input()"
   ]
  },
  {
   "cell_type": "code",
   "execution_count": null,
   "id": "76741e60",
   "metadata": {},
   "outputs": [],
   "source": [
    "p1_height = int(p1_height_percentage) / (int(p1_height_percentage) + int(p2_height_percentage))"
   ]
  },
  {
   "cell_type": "code",
   "execution_count": null,
   "id": "b9deda50",
   "metadata": {},
   "outputs": [],
   "source": [
    "p2_height = int(p2_height_percentage) / (int(p2_height_percentage) + int(p1_height_percentage))"
   ]
  },
  {
   "cell_type": "code",
   "execution_count": null,
   "id": "803c193d",
   "metadata": {},
   "outputs": [],
   "source": [
    "print(\"This part is about the odds.\")"
   ]
  },
  {
   "cell_type": "code",
   "execution_count": null,
   "id": "165f5b86",
   "metadata": {},
   "outputs": [],
   "source": [
    "print(\"What's the odd for the player 1?\")"
   ]
  },
  {
   "cell_type": "code",
   "execution_count": null,
   "id": "fcd21a79",
   "metadata": {
    "scrolled": false
   },
   "outputs": [],
   "source": [
    "p1_odd_percentage = input()"
   ]
  },
  {
   "cell_type": "code",
   "execution_count": null,
   "id": "818e55b8",
   "metadata": {},
   "outputs": [],
   "source": [
    "p1_odd = 1 / float(p1_odd_percentage)"
   ]
  },
  {
   "cell_type": "code",
   "execution_count": null,
   "id": "d4be6248",
   "metadata": {},
   "outputs": [],
   "source": [
    "print(\"What's the odd for the player 2?\")"
   ]
  },
  {
   "cell_type": "code",
   "execution_count": null,
   "id": "6598298f",
   "metadata": {},
   "outputs": [],
   "source": [
    "p2_odd_percentage = input()"
   ]
  },
  {
   "cell_type": "code",
   "execution_count": null,
   "id": "972ecbd6",
   "metadata": {},
   "outputs": [],
   "source": [
    "p2_odd = 1 / float(p2_odd_percentage)"
   ]
  },
  {
   "cell_type": "code",
   "execution_count": null,
   "id": "55964e0c",
   "metadata": {},
   "outputs": [],
   "source": [
    "print(\"Lets calculate the probability of the match...\")"
   ]
  },
  {
   "cell_type": "code",
   "execution_count": null,
   "id": "d66cb648",
   "metadata": {
    "scrolled": false
   },
   "outputs": [],
   "source": [
    "p1_use = weights[\"surface\"] * float(p1_surface) + weights[\"rank\"] * float(p1_rank) + weights[\"tournament\"] * float(p1_tournament) + weights[\"country\"] * float(p1_country) + weights[\"age\"] * float(p1_age) + weights[\"h2h\"] * float(p1_h2h) + weights[\"height\"] * float(p1_height) + weights[\"odd\"] * float(p1_odd)"
   ]
  },
  {
   "cell_type": "code",
   "execution_count": null,
   "id": "ec2016c2",
   "metadata": {
    "scrolled": true
   },
   "outputs": [],
   "source": [
    "p2_use = weights[\"surface\"] * float(p2_surface) + weights[\"rank\"] * float(p2_rank) + weights[\"tournament\"] * float(p2_tournament) + weights[\"country\"] * float(p2_country) + weights[\"age\"] * float(p2_age) + weights[\"h2h\"] * float(p2_h2h) + weights[\"height\"] * float(p2_height) + weights[\"odd\"] * float(p2_odd)"
   ]
  },
  {
   "cell_type": "code",
   "execution_count": null,
   "id": "e6f2ef40",
   "metadata": {},
   "outputs": [],
   "source": [
    "p1_probability = p1_use / (p1_use + p2_use) * 100"
   ]
  },
  {
   "cell_type": "code",
   "execution_count": null,
   "id": "1d37e199",
   "metadata": {},
   "outputs": [],
   "source": [
    "p2_probability = p2_use / (p2_use + p1_use) * 100"
   ]
  },
  {
   "cell_type": "code",
   "execution_count": null,
   "id": "9352540e",
   "metadata": {},
   "outputs": [],
   "source": [
    "p1_odd = 1 / (p1_probability / 100)"
   ]
  },
  {
   "cell_type": "code",
   "execution_count": null,
   "id": "f9610e12",
   "metadata": {},
   "outputs": [],
   "source": [
    "p2_odd = 1 / (p2_probability / 100)"
   ]
  },
  {
   "cell_type": "code",
   "execution_count": null,
   "id": "89c03145",
   "metadata": {},
   "outputs": [],
   "source": [
    "print(\"The probability of the match is..\")"
   ]
  },
  {
   "cell_type": "code",
   "execution_count": null,
   "id": "3a0b7f0e",
   "metadata": {
    "scrolled": true
   },
   "outputs": [],
   "source": [
    "print(p1, \"-\" , p1_probability)"
   ]
  },
  {
   "cell_type": "code",
   "execution_count": null,
   "id": "68f44112",
   "metadata": {},
   "outputs": [],
   "source": [
    "print(p2, \"-\" , p2_probability)"
   ]
  },
  {
   "cell_type": "code",
   "execution_count": null,
   "id": "4a8e8ea9",
   "metadata": {},
   "outputs": [],
   "source": [
    "print(\"The fair odds for this match are:\")"
   ]
  },
  {
   "cell_type": "code",
   "execution_count": null,
   "id": "2a0525f5",
   "metadata": {},
   "outputs": [],
   "source": [
    "print(p1, \"-\" , p1_odd)"
   ]
  },
  {
   "cell_type": "code",
   "execution_count": null,
   "id": "296e9d6e",
   "metadata": {},
   "outputs": [],
   "source": [
    "print(p2, \"-\" , p2_odd)"
   ]
  }
 ],
 "metadata": {
  "kernelspec": {
   "display_name": "Python 3 (ipykernel)",
   "language": "python",
   "name": "python3"
  },
  "language_info": {
   "codemirror_mode": {
    "name": "ipython",
    "version": 3
   },
   "file_extension": ".py",
   "mimetype": "text/x-python",
   "name": "python",
   "nbconvert_exporter": "python",
   "pygments_lexer": "ipython3",
   "version": "3.9.13"
  }
 },
 "nbformat": 4,
 "nbformat_minor": 5
}
